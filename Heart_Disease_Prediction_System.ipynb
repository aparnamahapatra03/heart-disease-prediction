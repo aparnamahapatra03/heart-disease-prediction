{
  "nbformat": 4,
  "nbformat_minor": 0,
  "metadata": {
    "colab": {
      "provenance": [],
      "include_colab_link": true
    },
    "kernelspec": {
      "name": "python3",
      "display_name": "Python 3"
    },
    "language_info": {
      "name": "python"
    }
  },
  "cells": [
    {
      "cell_type": "markdown",
      "metadata": {
        "id": "view-in-github",
        "colab_type": "text"
      },
      "source": [
        "<a href=\"https://colab.research.google.com/github/aparnamahapatra03/heart-disease-prediction/blob/main/Heart_Disease_Prediction_System.ipynb\" target=\"_parent\"><img src=\"https://colab.research.google.com/assets/colab-badge.svg\" alt=\"Open In Colab\"/></a>"
      ]
    },
    {
      "cell_type": "code",
      "source": [
        "from google.colab import drive\n",
        "drive.mount('/content/drive')\n",
        "model_path = \"/content/drive/My Drive/heart_disease_model.pkl\"  # Update with actual path\n"
      ],
      "metadata": {
        "colab": {
          "base_uri": "https://localhost:8080/"
        },
        "id": "Fbtwb3peIF82",
        "outputId": "a1693925-236e-4c02-9ac8-74795ea2570e"
      },
      "execution_count": 2,
      "outputs": [
        {
          "output_type": "stream",
          "name": "stdout",
          "text": [
            "Mounted at /content/drive\n"
          ]
        }
      ]
    },
    {
      "cell_type": "code",
      "source": [
        "!pip install gradio numpy pandas scikit-learn\n"
      ],
      "metadata": {
        "colab": {
          "base_uri": "https://localhost:8080/"
        },
        "id": "DUogdHRwFU4I",
        "outputId": "a2c5b8cf-77e2-4e44-aeb4-297c6cb9beaa"
      },
      "execution_count": 3,
      "outputs": [
        {
          "output_type": "stream",
          "name": "stdout",
          "text": [
            "Requirement already satisfied: gradio in /usr/local/lib/python3.11/dist-packages (5.22.0)\n",
            "Requirement already satisfied: numpy in /usr/local/lib/python3.11/dist-packages (2.0.2)\n",
            "Requirement already satisfied: pandas in /usr/local/lib/python3.11/dist-packages (2.2.2)\n",
            "Requirement already satisfied: scikit-learn in /usr/local/lib/python3.11/dist-packages (1.6.1)\n",
            "Requirement already satisfied: aiofiles<24.0,>=22.0 in /usr/local/lib/python3.11/dist-packages (from gradio) (23.2.1)\n",
            "Requirement already satisfied: anyio<5.0,>=3.0 in /usr/local/lib/python3.11/dist-packages (from gradio) (3.7.1)\n",
            "Requirement already satisfied: fastapi<1.0,>=0.115.2 in /usr/local/lib/python3.11/dist-packages (from gradio) (0.115.11)\n",
            "Requirement already satisfied: ffmpy in /usr/local/lib/python3.11/dist-packages (from gradio) (0.5.0)\n",
            "Requirement already satisfied: gradio-client==1.8.0 in /usr/local/lib/python3.11/dist-packages (from gradio) (1.8.0)\n",
            "Requirement already satisfied: groovy~=0.1 in /usr/local/lib/python3.11/dist-packages (from gradio) (0.1.2)\n",
            "Requirement already satisfied: httpx>=0.24.1 in /usr/local/lib/python3.11/dist-packages (from gradio) (0.28.1)\n",
            "Requirement already satisfied: huggingface-hub>=0.28.1 in /usr/local/lib/python3.11/dist-packages (from gradio) (0.28.1)\n",
            "Requirement already satisfied: jinja2<4.0 in /usr/local/lib/python3.11/dist-packages (from gradio) (3.1.6)\n",
            "Requirement already satisfied: markupsafe<4.0,>=2.0 in /usr/local/lib/python3.11/dist-packages (from gradio) (3.0.2)\n",
            "Requirement already satisfied: orjson~=3.0 in /usr/local/lib/python3.11/dist-packages (from gradio) (3.10.15)\n",
            "Requirement already satisfied: packaging in /usr/local/lib/python3.11/dist-packages (from gradio) (24.2)\n",
            "Requirement already satisfied: pillow<12.0,>=8.0 in /usr/local/lib/python3.11/dist-packages (from gradio) (11.1.0)\n",
            "Requirement already satisfied: pydantic>=2.0 in /usr/local/lib/python3.11/dist-packages (from gradio) (2.10.6)\n",
            "Requirement already satisfied: pydub in /usr/local/lib/python3.11/dist-packages (from gradio) (0.25.1)\n",
            "Requirement already satisfied: python-multipart>=0.0.18 in /usr/local/lib/python3.11/dist-packages (from gradio) (0.0.20)\n",
            "Requirement already satisfied: pyyaml<7.0,>=5.0 in /usr/local/lib/python3.11/dist-packages (from gradio) (6.0.2)\n",
            "Requirement already satisfied: ruff>=0.9.3 in /usr/local/lib/python3.11/dist-packages (from gradio) (0.11.1)\n",
            "Requirement already satisfied: safehttpx<0.2.0,>=0.1.6 in /usr/local/lib/python3.11/dist-packages (from gradio) (0.1.6)\n",
            "Requirement already satisfied: semantic-version~=2.0 in /usr/local/lib/python3.11/dist-packages (from gradio) (2.10.0)\n",
            "Requirement already satisfied: starlette<1.0,>=0.40.0 in /usr/local/lib/python3.11/dist-packages (from gradio) (0.46.1)\n",
            "Requirement already satisfied: tomlkit<0.14.0,>=0.12.0 in /usr/local/lib/python3.11/dist-packages (from gradio) (0.13.2)\n",
            "Requirement already satisfied: typer<1.0,>=0.12 in /usr/local/lib/python3.11/dist-packages (from gradio) (0.15.2)\n",
            "Requirement already satisfied: typing-extensions~=4.0 in /usr/local/lib/python3.11/dist-packages (from gradio) (4.12.2)\n",
            "Requirement already satisfied: uvicorn>=0.14.0 in /usr/local/lib/python3.11/dist-packages (from gradio) (0.34.0)\n",
            "Requirement already satisfied: fsspec in /usr/local/lib/python3.11/dist-packages (from gradio-client==1.8.0->gradio) (2024.10.0)\n",
            "Requirement already satisfied: websockets<16.0,>=10.0 in /usr/local/lib/python3.11/dist-packages (from gradio-client==1.8.0->gradio) (14.2)\n",
            "Requirement already satisfied: python-dateutil>=2.8.2 in /usr/local/lib/python3.11/dist-packages (from pandas) (2.8.2)\n",
            "Requirement already satisfied: pytz>=2020.1 in /usr/local/lib/python3.11/dist-packages (from pandas) (2025.1)\n",
            "Requirement already satisfied: tzdata>=2022.7 in /usr/local/lib/python3.11/dist-packages (from pandas) (2025.1)\n",
            "Requirement already satisfied: scipy>=1.6.0 in /usr/local/lib/python3.11/dist-packages (from scikit-learn) (1.14.1)\n",
            "Requirement already satisfied: joblib>=1.2.0 in /usr/local/lib/python3.11/dist-packages (from scikit-learn) (1.4.2)\n",
            "Requirement already satisfied: threadpoolctl>=3.1.0 in /usr/local/lib/python3.11/dist-packages (from scikit-learn) (3.6.0)\n",
            "Requirement already satisfied: idna>=2.8 in /usr/local/lib/python3.11/dist-packages (from anyio<5.0,>=3.0->gradio) (3.10)\n",
            "Requirement already satisfied: sniffio>=1.1 in /usr/local/lib/python3.11/dist-packages (from anyio<5.0,>=3.0->gradio) (1.3.1)\n",
            "Requirement already satisfied: certifi in /usr/local/lib/python3.11/dist-packages (from httpx>=0.24.1->gradio) (2025.1.31)\n",
            "Requirement already satisfied: httpcore==1.* in /usr/local/lib/python3.11/dist-packages (from httpx>=0.24.1->gradio) (1.0.7)\n",
            "Requirement already satisfied: h11<0.15,>=0.13 in /usr/local/lib/python3.11/dist-packages (from httpcore==1.*->httpx>=0.24.1->gradio) (0.14.0)\n",
            "Requirement already satisfied: filelock in /usr/local/lib/python3.11/dist-packages (from huggingface-hub>=0.28.1->gradio) (3.17.0)\n",
            "Requirement already satisfied: requests in /usr/local/lib/python3.11/dist-packages (from huggingface-hub>=0.28.1->gradio) (2.32.3)\n",
            "Requirement already satisfied: tqdm>=4.42.1 in /usr/local/lib/python3.11/dist-packages (from huggingface-hub>=0.28.1->gradio) (4.67.1)\n",
            "Requirement already satisfied: annotated-types>=0.6.0 in /usr/local/lib/python3.11/dist-packages (from pydantic>=2.0->gradio) (0.7.0)\n",
            "Requirement already satisfied: pydantic-core==2.27.2 in /usr/local/lib/python3.11/dist-packages (from pydantic>=2.0->gradio) (2.27.2)\n",
            "Requirement already satisfied: six>=1.5 in /usr/local/lib/python3.11/dist-packages (from python-dateutil>=2.8.2->pandas) (1.17.0)\n",
            "Requirement already satisfied: click>=8.0.0 in /usr/local/lib/python3.11/dist-packages (from typer<1.0,>=0.12->gradio) (8.1.8)\n",
            "Requirement already satisfied: shellingham>=1.3.0 in /usr/local/lib/python3.11/dist-packages (from typer<1.0,>=0.12->gradio) (1.5.4)\n",
            "Requirement already satisfied: rich>=10.11.0 in /usr/local/lib/python3.11/dist-packages (from typer<1.0,>=0.12->gradio) (13.9.4)\n",
            "Requirement already satisfied: markdown-it-py>=2.2.0 in /usr/local/lib/python3.11/dist-packages (from rich>=10.11.0->typer<1.0,>=0.12->gradio) (3.0.0)\n",
            "Requirement already satisfied: pygments<3.0.0,>=2.13.0 in /usr/local/lib/python3.11/dist-packages (from rich>=10.11.0->typer<1.0,>=0.12->gradio) (2.18.0)\n",
            "Requirement already satisfied: charset-normalizer<4,>=2 in /usr/local/lib/python3.11/dist-packages (from requests->huggingface-hub>=0.28.1->gradio) (3.4.1)\n",
            "Requirement already satisfied: urllib3<3,>=1.21.1 in /usr/local/lib/python3.11/dist-packages (from requests->huggingface-hub>=0.28.1->gradio) (2.3.0)\n",
            "Requirement already satisfied: mdurl~=0.1 in /usr/local/lib/python3.11/dist-packages (from markdown-it-py>=2.2.0->rich>=10.11.0->typer<1.0,>=0.12->gradio) (0.1.2)\n"
          ]
        }
      ]
    },
    {
      "cell_type": "code",
      "source": [
        "import gradio as gr\n",
        "import numpy as np\n",
        "import pickle\n",
        "\n",
        "# Load the trained model\n",
        "model_path = \"/content/drive/MyDrive/Python Project/heart/heart_disease_model.pkl\"  # If using Google Drive, update the correct path\n",
        "with open(model_path, \"rb\") as file:\n",
        "    model = pickle.load(file)\n",
        "\n",
        "# Full Information about Features\n",
        "full_info = \"\"\"\n",
        "### **🔍 Full Explanation of Input Fields**\n",
        "1️⃣ **Age**: Patient's age (20-100 years)\n",
        "2️⃣ **Sex**: Biological sex of the patient\n",
        "   - Male (1)\n",
        "   - Female (0)\n",
        "3️⃣ **Chest Pain Type (0-3)**:\n",
        "   - 0: No Chest Pain\n",
        "   - 1: Atypical Angina (Mild pain)\n",
        "   - 2: Non-Anginal Pain (Moderate pain)\n",
        "   - 3: Typical Angina (Severe pain)\n",
        "4️⃣ **Resting Blood Pressure**: Systolic blood pressure (90-200 mmHg)\n",
        "   - **Normal**: 90-140 mmHg\n",
        "   - **High Risk**: Above 140 mmHg\n",
        "5️⃣ **Cholesterol Level**: Total cholesterol in mg/dl (100-600)\n",
        "   - **Healthy**: Below 200 mg/dl\n",
        "   - **Borderline High**: 200-239 mg/dl\n",
        "   - **High Risk**: 240+ mg/dl\n",
        "6️⃣ **Fasting Blood Sugar > 120 mg/dl**:\n",
        "   - Yes (1) → High Risk\n",
        "   - No (0) → Normal\n",
        "7️⃣ **Resting ECG (Electrocardiogram) Results (0-2)**:\n",
        "   - 0: Normal\n",
        "   - 1: ST-T wave abnormality (Possible heart disease)\n",
        "   - 2: Left Ventricular Hypertrophy (Severe risk)\n",
        "8️⃣ **Max Heart Rate Achieved (60-220 bpm)**\n",
        "   - **Healthy**: 140-170 bpm\n",
        "   - **At Risk**: Below 120 bpm\n",
        "9️⃣ **Exercise-Induced Angina (Chest pain during exercise)**\n",
        "   - Yes (1) → High Risk\n",
        "   - No (0) → Normal\n",
        "🔟 **ST Depression (Oldpeak) due to exercise**\n",
        "   - **0.0 - 1.0**: Normal\n",
        "   - **Above 2.0**: High Risk\n",
        "1️⃣1️⃣ **ST Slope (0-2)**\n",
        "   - 0: Downsloping (High risk)\n",
        "   - 1: Flat (Moderate risk)\n",
        "   - 2: Upsloping (Good condition)\n",
        "1️⃣2️⃣ **Number of Major Vessels Blocked (0-4)**: More blockages = Higher risk\n",
        "1️⃣3️⃣ **Thalassemia (0-3)**:\n",
        "   - 0: Normal\n",
        "   - 1: Fixed Defect (Heart tissue damage)\n",
        "   - 2: Reversible Defect (Temporary blood flow issues)\n",
        "   - 3: Severe Heart Condition\n",
        "\"\"\"\n",
        "\n",
        "# Define prediction function\n",
        "def predict_heart_disease(age, sex, cp, trestbps, chol, fbs, restecg, thalach, exang, oldpeak, slope, ca, thal):\n",
        "    \"\"\"\n",
        "    This function takes user inputs, processes them into an array, and predicts the risk of heart disease.\n",
        "    \"\"\"\n",
        "\n",
        "    # Convert categorical values\n",
        "    sex = 1 if sex == \"Male\" else 0\n",
        "    fbs = 1 if fbs == \"Yes\" else 0\n",
        "    exang = 1 if exang == \"Yes\" else 0\n",
        "\n",
        "    # Prepare input data for model\n",
        "    input_data = np.array([[age, sex, cp, trestbps, chol, fbs, restecg, thalach, exang, oldpeak, slope, ca, thal]])\n",
        "\n",
        "    # Make a prediction\n",
        "    prediction = model.predict(input_data)[0]\n",
        "\n",
        "    # Display result\n",
        "    if prediction == 1:\n",
        "        return (\n",
        "            \"🚨 **High Risk of Heart Disease!** Consult a cardiologist immediately.\",\n",
        "            \"⚠️ **Risk Factors:**\\n- High blood pressure/cholesterol\\n- Chest pain & low heart function\\n- Artery blockages\",\n",
        "            \"red\"\n",
        "        )\n",
        "    else:\n",
        "        return (\n",
        "            \"✅ **No Heart Disease Detected!** Keep maintaining a healthy lifestyle.\",\n",
        "            \"🟢 **Healthy Indicators:**\\n- Normal blood pressure & cholesterol\\n- No major artery blockages\\n- Stable heart function\",\n",
        "            \"green\"\n",
        "        )\n",
        "\n",
        "# Define Gradio UI\n",
        "with gr.Blocks() as app:\n",
        "    gr.Markdown(\"# 💓 Heart Disease Prediction System\")\n",
        "    gr.Markdown(\"### Enter patient details to check heart disease risk.\")\n",
        "\n",
        "    # Layout: Two columns for input and output\n",
        "    with gr.Row():\n",
        "        with gr.Column():\n",
        "            age = gr.Slider(20, 100, value=50, label=\"Age (years)\")\n",
        "            sex = gr.Radio([\"Male\", \"Female\"], label=\"Sex\")\n",
        "            cp = gr.Dropdown([0, 1, 2, 3], label=\"Chest Pain Type (0-3)\")\n",
        "            trestbps = gr.Slider(90, 200, value=120, label=\"Resting Blood Pressure (mmHg)\")\n",
        "            chol = gr.Slider(100, 600, value=200, label=\"Cholesterol Level (mg/dl)\")\n",
        "            fbs = gr.Radio([\"Yes\", \"No\"], label=\"Fasting Blood Sugar > 120 mg/dl\")\n",
        "            restecg = gr.Dropdown([0, 1, 2], label=\"Resting ECG (0-2)\")\n",
        "            thalach = gr.Slider(60, 220, value=150, label=\"Max Heart Rate Achieved (bpm)\")\n",
        "            exang = gr.Radio([\"Yes\", \"No\"], label=\"Exercise Induced Angina\")\n",
        "            oldpeak = gr.Slider(0.0, 6.0, value=1.0, label=\"ST Depression\")\n",
        "            slope = gr.Dropdown([0, 1, 2], label=\"ST Slope (0-2)\")\n",
        "            ca = gr.Dropdown([0, 1, 2, 3, 4], label=\"Number of Major Vessels (0-4)\")\n",
        "            thal = gr.Dropdown([0, 1, 2, 3], label=\"Thalassemia (0-3)\")\n",
        "\n",
        "            predict_btn = gr.Button(\"🔍 Predict Heart Disease\")\n",
        "\n",
        "        with gr.Column():\n",
        "            output_text = gr.Markdown()\n",
        "            output_details = gr.Markdown()\n",
        "            output_color = gr.Textbox(visible=False)\n",
        "\n",
        "    # Function linking button click to prediction\n",
        "    predict_btn.click(predict_heart_disease, inputs=[age, sex, cp, trestbps, chol, fbs, restecg, thalach, exang, oldpeak, slope, ca, thal], outputs=[output_text, output_details, output_color])\n",
        "\n",
        "    gr.Markdown(full_info)\n",
        "\n",
        "# Launch the app\n",
        "app.launch(share=True)\n"
      ],
      "metadata": {
        "colab": {
          "base_uri": "https://localhost:8080/",
          "height": 611
        },
        "id": "XWaDwFJMIIeX",
        "outputId": "666d8629-1613-4fa1-f32a-1ae5ef310e5a"
      },
      "execution_count": 5,
      "outputs": [
        {
          "output_type": "stream",
          "name": "stdout",
          "text": [
            "Colab notebook detected. To show errors in colab notebook, set debug=True in launch()\n",
            "* Running on public URL: https://f71b974e9c01557e8f.gradio.live\n",
            "\n",
            "This share link expires in 72 hours. For free permanent hosting and GPU upgrades, run `gradio deploy` from the terminal in the working directory to deploy to Hugging Face Spaces (https://huggingface.co/spaces)\n"
          ]
        },
        {
          "output_type": "display_data",
          "data": {
            "text/plain": [
              "<IPython.core.display.HTML object>"
            ],
            "text/html": [
              "<div><iframe src=\"https://f71b974e9c01557e8f.gradio.live\" width=\"100%\" height=\"500\" allow=\"autoplay; camera; microphone; clipboard-read; clipboard-write;\" frameborder=\"0\" allowfullscreen></iframe></div>"
            ]
          },
          "metadata": {}
        },
        {
          "output_type": "execute_result",
          "data": {
            "text/plain": []
          },
          "metadata": {},
          "execution_count": 5
        }
      ]
    },
    {
      "cell_type": "code",
      "source": [],
      "metadata": {
        "id": "g76tmCrbMmGk"
      },
      "execution_count": null,
      "outputs": []
    }
  ]
}